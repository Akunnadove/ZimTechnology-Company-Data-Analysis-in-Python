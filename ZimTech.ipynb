{
 "cells": [
  {
   "cell_type": "markdown",
   "id": "735e62e6-879c-4cde-a27e-0c6ef5b1cbec",
   "metadata": {
    "tags": []
   },
   "source": [
    "# BACKGROUND \n",
    "A Company ZIMTECH has reached out to us for a simple data management project.\n",
    "\n",
    "\n",
    "They have an excel sheet where their sales representative enters information of their opportunities, some of the information captured in the sheet includes the sales rep’s name, the product, the amount, date, year, closure status, etc.\n",
    "\n",
    "##### The list below outlines their expectations.\n",
    "\n",
    "1.   Dates should be captured in this format YYYY-MM-DD for all the date columns in the data given.\n",
    "\n",
    "2.   Some columns should be captured as category\n",
    "\n",
    "##### Also, ZIMTECH will like to have answers to the following questions still from their opportunity data.\n",
    "\n",
    "1.   The product category with the highest opportunity value for 2019\n",
    "\n",
    "2.   The KAM with the highest opportunity value for 2020\n",
    "\n",
    "3.   The bestselling product in 2019\n",
    "\n",
    "4.   The month with the best sale in 2020\n",
    "\n",
    "###### Note that ZIMTECH will like us to recommend the best product category to focus more on in terms of marketing."
   ]
  },
  {
   "cell_type": "markdown",
   "id": "886bc079-60a9-4445-9cd6-725a76b11f28",
   "metadata": {},
   "source": [
    "# EXPLORATORY DATA ANALYSIS"
   ]
  },
  {
   "cell_type": "markdown",
   "id": "1a4ff178-c93d-4876-bd00-7e250d9b226c",
   "metadata": {},
   "source": [
    "#### IMPORT DATA INTO PANDAS DATAFRAME"
   ]
  },
  {
   "cell_type": "code",
   "execution_count": 41,
   "id": "c2b538be-d9ae-4eef-94c1-d0234df39fcc",
   "metadata": {},
   "outputs": [],
   "source": [
    "import pandas as pd\n",
    "import numpy as np\n",
    "import seaborn as sns\n",
    "import matplotlib.pyplot as plt\n",
    "%matplotlib inline\n",
    "import warnings"
   ]
  },
  {
   "cell_type": "code",
   "execution_count": 42,
   "id": "e4eb31f0-0c47-4c31-a4bc-9f286b70e73e",
   "metadata": {},
   "outputs": [],
   "source": [
    "alitech = pd.read_csv(r\"C:\\Users\\Akunna Anyamkpa\\iCloudDrive\\Layer3 Zip\\PROJECT - ZimTech\\zimtech-opportunity-data-updated.csv\")"
   ]
  },
  {
   "cell_type": "code",
   "execution_count": 43,
   "id": "077d01cd-a439-47bd-852f-ff6cb5f89f65",
   "metadata": {},
   "outputs": [
    {
     "data": {
      "text/plain": [
       "(687, 13)"
      ]
     },
     "execution_count": 43,
     "metadata": {},
     "output_type": "execute_result"
    }
   ],
   "source": [
    "alitech.shape"
   ]
  },
  {
   "cell_type": "code",
   "execution_count": 44,
   "id": "bea78787-d5a7-478d-9fcf-5e388c07eab3",
   "metadata": {},
   "outputs": [
    {
     "data": {
      "text/html": [
       "<div>\n",
       "<style scoped>\n",
       "    .dataframe tbody tr th:only-of-type {\n",
       "        vertical-align: middle;\n",
       "    }\n",
       "\n",
       "    .dataframe tbody tr th {\n",
       "        vertical-align: top;\n",
       "    }\n",
       "\n",
       "    .dataframe thead th {\n",
       "        text-align: right;\n",
       "    }\n",
       "</style>\n",
       "<table border=\"1\" class=\"dataframe\">\n",
       "  <thead>\n",
       "    <tr style=\"text-align: right;\">\n",
       "      <th></th>\n",
       "      <th>Product Category</th>\n",
       "      <th>KAM</th>\n",
       "      <th>NRC(one-off)</th>\n",
       "      <th>New Value (=N=)</th>\n",
       "      <th>Sales Stage</th>\n",
       "      <th>Unnamed: 5</th>\n",
       "      <th>Closure Status</th>\n",
       "      <th>Expected Closure Date (mm/dd/yyyy)</th>\n",
       "      <th>Actual Closure Date</th>\n",
       "      <th>Commitment Month(original first commit)</th>\n",
       "      <th>Date Added</th>\n",
       "      <th>Months closed(actual closure)</th>\n",
       "      <th>YEAR</th>\n",
       "    </tr>\n",
       "  </thead>\n",
       "  <tbody>\n",
       "    <tr>\n",
       "      <th>0</th>\n",
       "      <td>Network Infrastructure</td>\n",
       "      <td>KAM-A</td>\n",
       "      <td>37,567,134.99</td>\n",
       "      <td>37567134.99</td>\n",
       "      <td>Negotiation/bidding</td>\n",
       "      <td>NaN</td>\n",
       "      <td>Cold</td>\n",
       "      <td>03/01/2019</td>\n",
       "      <td>NaN</td>\n",
       "      <td>Mar</td>\n",
       "      <td>2019</td>\n",
       "      <td>NaN</td>\n",
       "      <td>2019.0</td>\n",
       "    </tr>\n",
       "    <tr>\n",
       "      <th>1</th>\n",
       "      <td>Network Infrastructure</td>\n",
       "      <td>KAM-A</td>\n",
       "      <td>NaN</td>\n",
       "      <td>0.00</td>\n",
       "      <td>Proposal</td>\n",
       "      <td>NaN</td>\n",
       "      <td>Cold</td>\n",
       "      <td>10/04/2019</td>\n",
       "      <td>NaN</td>\n",
       "      <td>Oct</td>\n",
       "      <td>2019</td>\n",
       "      <td>NaN</td>\n",
       "      <td>2019.0</td>\n",
       "    </tr>\n",
       "    <tr>\n",
       "      <th>2</th>\n",
       "      <td>Network Infrastructure</td>\n",
       "      <td>KAM-A</td>\n",
       "      <td>4,866,000.00</td>\n",
       "      <td>4866000.00</td>\n",
       "      <td>Proposal</td>\n",
       "      <td>NaN</td>\n",
       "      <td>Warm</td>\n",
       "      <td>10/05/2019</td>\n",
       "      <td>NaN</td>\n",
       "      <td>Oct</td>\n",
       "      <td>2019</td>\n",
       "      <td>NaN</td>\n",
       "      <td>2019.0</td>\n",
       "    </tr>\n",
       "    <tr>\n",
       "      <th>3</th>\n",
       "      <td>Network Infrastructure</td>\n",
       "      <td>KAM-A</td>\n",
       "      <td>1,776,390.58</td>\n",
       "      <td>1776390.58</td>\n",
       "      <td>Close Won/Approval</td>\n",
       "      <td>NaN</td>\n",
       "      <td>Hot</td>\n",
       "      <td>10/05/2019</td>\n",
       "      <td>10/06/2019</td>\n",
       "      <td>Oct</td>\n",
       "      <td>2019</td>\n",
       "      <td>Oct</td>\n",
       "      <td>2019.0</td>\n",
       "    </tr>\n",
       "  </tbody>\n",
       "</table>\n",
       "</div>"
      ],
      "text/plain": [
       "         Product Category    KAM   NRC(one-off)  New Value (=N=)  \\\n",
       "0  Network Infrastructure  KAM-A  37,567,134.99      37567134.99   \n",
       "1  Network Infrastructure  KAM-A            NaN             0.00   \n",
       "2  Network Infrastructure  KAM-A   4,866,000.00       4866000.00   \n",
       "3  Network Infrastructure  KAM-A   1,776,390.58       1776390.58   \n",
       "\n",
       "           Sales Stage Unnamed: 5 Closure Status  \\\n",
       "0  Negotiation/bidding        NaN           Cold   \n",
       "1             Proposal        NaN           Cold   \n",
       "2             Proposal        NaN           Warm   \n",
       "3   Close Won/Approval        NaN            Hot   \n",
       "\n",
       "  Expected Closure Date (mm/dd/yyyy)  Actual Closure Date  \\\n",
       "0                          03/01/2019                 NaN   \n",
       "1                          10/04/2019                 NaN   \n",
       "2                          10/05/2019                 NaN   \n",
       "3                          10/05/2019          10/06/2019   \n",
       "\n",
       "  Commitment Month(original first commit) Date Added  \\\n",
       "0                                     Mar       2019   \n",
       "1                                     Oct       2019   \n",
       "2                                     Oct       2019   \n",
       "3                                     Oct       2019   \n",
       "\n",
       "  Months closed(actual closure)    YEAR  \n",
       "0                           NaN  2019.0  \n",
       "1                           NaN  2019.0  \n",
       "2                           NaN  2019.0  \n",
       "3                           Oct  2019.0  "
      ]
     },
     "execution_count": 44,
     "metadata": {},
     "output_type": "execute_result"
    }
   ],
   "source": [
    "alitech.head(4)"
   ]
  },
  {
   "cell_type": "code",
   "execution_count": 45,
   "id": "cd1df8f3-3174-49c4-8140-84a91764fd6d",
   "metadata": {},
   "outputs": [
    {
     "data": {
      "text/plain": [
       "Index(['Product Category', 'KAM', 'NRC(one-off)', 'New Value (=N=)',\n",
       "       'Sales Stage', 'Unnamed: 5', 'Closure Status',\n",
       "       'Expected Closure Date (mm/dd/yyyy) ', 'Actual Closure Date',\n",
       "       'Commitment Month(original first commit)', 'Date Added',\n",
       "       'Months closed(actual closure)', 'YEAR'],\n",
       "      dtype='object')"
      ]
     },
     "execution_count": 45,
     "metadata": {},
     "output_type": "execute_result"
    }
   ],
   "source": [
    "alitech.columns"
   ]
  },
  {
   "cell_type": "markdown",
   "id": "8172348e-205c-4da5-9fa6-50992c22fe66",
   "metadata": {},
   "source": [
    "#### Rename Columns That Have Brackets And Symbols"
   ]
  },
  {
   "cell_type": "code",
   "execution_count": 46,
   "id": "8242604c-ec9e-41a7-a752-350290a330a5",
   "metadata": {},
   "outputs": [],
   "source": [
    "alitech.columns = ['Product_Category', 'KAM', 'NRC_one_off', 'New_Value',\n",
    "       'Sales_Stage', 'Nan', 'Closure_Status',\n",
    "       'Expected_Closure_Date', 'Actual_Closure_Date',\n",
    "       'Commitment_Month_original_first_commit', 'Date_Added',\n",
    "       'Months_closed_actual_closure', 'YEAR']  "
   ]
  },
  {
   "cell_type": "markdown",
   "id": "d037a547-3086-4059-a84b-c675c8c8fcda",
   "metadata": {},
   "source": [
    "#### Drop Unnamed Columns"
   ]
  },
  {
   "cell_type": "code",
   "execution_count": 47,
   "id": "a37686bf-651e-448d-8540-60796e98a985",
   "metadata": {},
   "outputs": [],
   "source": [
    "alitech.drop('Nan', axis='columns', inplace=True) #Dropping the Unnamed column"
   ]
  },
  {
   "cell_type": "code",
   "execution_count": 48,
   "id": "389e5deb-35de-42b3-9b5b-fc08d45a081b",
   "metadata": {
    "tags": []
   },
   "outputs": [
    {
     "data": {
      "text/html": [
       "<div>\n",
       "<style scoped>\n",
       "    .dataframe tbody tr th:only-of-type {\n",
       "        vertical-align: middle;\n",
       "    }\n",
       "\n",
       "    .dataframe tbody tr th {\n",
       "        vertical-align: top;\n",
       "    }\n",
       "\n",
       "    .dataframe thead th {\n",
       "        text-align: right;\n",
       "    }\n",
       "</style>\n",
       "<table border=\"1\" class=\"dataframe\">\n",
       "  <thead>\n",
       "    <tr style=\"text-align: right;\">\n",
       "      <th></th>\n",
       "      <th>Product_Category</th>\n",
       "      <th>KAM</th>\n",
       "      <th>NRC_one_off</th>\n",
       "      <th>New_Value</th>\n",
       "      <th>Sales_Stage</th>\n",
       "      <th>Closure_Status</th>\n",
       "      <th>Expected_Closure_Date</th>\n",
       "      <th>Actual_Closure_Date</th>\n",
       "      <th>Commitment_Month_original_first_commit</th>\n",
       "      <th>Date_Added</th>\n",
       "      <th>Months_closed_actual_closure</th>\n",
       "      <th>YEAR</th>\n",
       "    </tr>\n",
       "  </thead>\n",
       "  <tbody>\n",
       "    <tr>\n",
       "      <th>0</th>\n",
       "      <td>Network Infrastructure</td>\n",
       "      <td>KAM-A</td>\n",
       "      <td>37,567,134.99</td>\n",
       "      <td>37567134.99</td>\n",
       "      <td>Negotiation/bidding</td>\n",
       "      <td>Cold</td>\n",
       "      <td>03/01/2019</td>\n",
       "      <td>NaN</td>\n",
       "      <td>Mar</td>\n",
       "      <td>2019</td>\n",
       "      <td>NaN</td>\n",
       "      <td>2019.0</td>\n",
       "    </tr>\n",
       "    <tr>\n",
       "      <th>1</th>\n",
       "      <td>Network Infrastructure</td>\n",
       "      <td>KAM-A</td>\n",
       "      <td>NaN</td>\n",
       "      <td>0.00</td>\n",
       "      <td>Proposal</td>\n",
       "      <td>Cold</td>\n",
       "      <td>10/04/2019</td>\n",
       "      <td>NaN</td>\n",
       "      <td>Oct</td>\n",
       "      <td>2019</td>\n",
       "      <td>NaN</td>\n",
       "      <td>2019.0</td>\n",
       "    </tr>\n",
       "    <tr>\n",
       "      <th>2</th>\n",
       "      <td>Network Infrastructure</td>\n",
       "      <td>KAM-A</td>\n",
       "      <td>4,866,000.00</td>\n",
       "      <td>4866000.00</td>\n",
       "      <td>Proposal</td>\n",
       "      <td>Warm</td>\n",
       "      <td>10/05/2019</td>\n",
       "      <td>NaN</td>\n",
       "      <td>Oct</td>\n",
       "      <td>2019</td>\n",
       "      <td>NaN</td>\n",
       "      <td>2019.0</td>\n",
       "    </tr>\n",
       "    <tr>\n",
       "      <th>3</th>\n",
       "      <td>Network Infrastructure</td>\n",
       "      <td>KAM-A</td>\n",
       "      <td>1,776,390.58</td>\n",
       "      <td>1776390.58</td>\n",
       "      <td>Close Won/Approval</td>\n",
       "      <td>Hot</td>\n",
       "      <td>10/05/2019</td>\n",
       "      <td>10/06/2019</td>\n",
       "      <td>Oct</td>\n",
       "      <td>2019</td>\n",
       "      <td>Oct</td>\n",
       "      <td>2019.0</td>\n",
       "    </tr>\n",
       "  </tbody>\n",
       "</table>\n",
       "</div>"
      ],
      "text/plain": [
       "         Product_Category    KAM    NRC_one_off    New_Value  \\\n",
       "0  Network Infrastructure  KAM-A  37,567,134.99  37567134.99   \n",
       "1  Network Infrastructure  KAM-A            NaN         0.00   \n",
       "2  Network Infrastructure  KAM-A   4,866,000.00   4866000.00   \n",
       "3  Network Infrastructure  KAM-A   1,776,390.58   1776390.58   \n",
       "\n",
       "           Sales_Stage Closure_Status Expected_Closure_Date  \\\n",
       "0  Negotiation/bidding           Cold            03/01/2019   \n",
       "1             Proposal           Cold            10/04/2019   \n",
       "2             Proposal           Warm            10/05/2019   \n",
       "3   Close Won/Approval            Hot            10/05/2019   \n",
       "\n",
       "  Actual_Closure_Date Commitment_Month_original_first_commit Date_Added  \\\n",
       "0                 NaN                                    Mar       2019   \n",
       "1                 NaN                                    Oct       2019   \n",
       "2                 NaN                                    Oct       2019   \n",
       "3          10/06/2019                                    Oct       2019   \n",
       "\n",
       "  Months_closed_actual_closure    YEAR  \n",
       "0                          NaN  2019.0  \n",
       "1                          NaN  2019.0  \n",
       "2                          NaN  2019.0  \n",
       "3                          Oct  2019.0  "
      ]
     },
     "execution_count": 48,
     "metadata": {},
     "output_type": "execute_result"
    }
   ],
   "source": [
    "alitech.head(4)"
   ]
  },
  {
   "cell_type": "markdown",
   "id": "77e479b8-fb6f-462e-b778-6a35525f471d",
   "metadata": {},
   "source": [
    "#### Analyse The Quantitative Variables In The Dataset"
   ]
  },
  {
   "cell_type": "code",
   "execution_count": 49,
   "id": "7fbbaede-dd82-4777-82f7-0decbf94109d",
   "metadata": {},
   "outputs": [
    {
     "data": {
      "text/html": [
       "<div>\n",
       "<style scoped>\n",
       "    .dataframe tbody tr th:only-of-type {\n",
       "        vertical-align: middle;\n",
       "    }\n",
       "\n",
       "    .dataframe tbody tr th {\n",
       "        vertical-align: top;\n",
       "    }\n",
       "\n",
       "    .dataframe thead th {\n",
       "        text-align: right;\n",
       "    }\n",
       "</style>\n",
       "<table border=\"1\" class=\"dataframe\">\n",
       "  <thead>\n",
       "    <tr style=\"text-align: right;\">\n",
       "      <th></th>\n",
       "      <th>New_Value</th>\n",
       "      <th>YEAR</th>\n",
       "    </tr>\n",
       "  </thead>\n",
       "  <tbody>\n",
       "    <tr>\n",
       "      <th>count</th>\n",
       "      <td>4.640000e+02</td>\n",
       "      <td>464.000000</td>\n",
       "    </tr>\n",
       "    <tr>\n",
       "      <th>mean</th>\n",
       "      <td>2.871997e+07</td>\n",
       "      <td>2019.622845</td>\n",
       "    </tr>\n",
       "    <tr>\n",
       "      <th>std</th>\n",
       "      <td>1.013352e+08</td>\n",
       "      <td>0.485197</td>\n",
       "    </tr>\n",
       "    <tr>\n",
       "      <th>min</th>\n",
       "      <td>0.000000e+00</td>\n",
       "      <td>2019.000000</td>\n",
       "    </tr>\n",
       "    <tr>\n",
       "      <th>25%</th>\n",
       "      <td>1.491289e+06</td>\n",
       "      <td>2019.000000</td>\n",
       "    </tr>\n",
       "    <tr>\n",
       "      <th>50%</th>\n",
       "      <td>3.822202e+06</td>\n",
       "      <td>2020.000000</td>\n",
       "    </tr>\n",
       "    <tr>\n",
       "      <th>75%</th>\n",
       "      <td>1.213377e+07</td>\n",
       "      <td>2020.000000</td>\n",
       "    </tr>\n",
       "    <tr>\n",
       "      <th>max</th>\n",
       "      <td>1.166108e+09</td>\n",
       "      <td>2020.000000</td>\n",
       "    </tr>\n",
       "  </tbody>\n",
       "</table>\n",
       "</div>"
      ],
      "text/plain": [
       "          New_Value         YEAR\n",
       "count  4.640000e+02   464.000000\n",
       "mean   2.871997e+07  2019.622845\n",
       "std    1.013352e+08     0.485197\n",
       "min    0.000000e+00  2019.000000\n",
       "25%    1.491289e+06  2019.000000\n",
       "50%    3.822202e+06  2020.000000\n",
       "75%    1.213377e+07  2020.000000\n",
       "max    1.166108e+09  2020.000000"
      ]
     },
     "execution_count": 49,
     "metadata": {},
     "output_type": "execute_result"
    }
   ],
   "source": [
    "alitech.describe()"
   ]
  },
  {
   "cell_type": "markdown",
   "id": "eb00e179-7340-408e-8006-dcf721b7ee77",
   "metadata": {},
   "source": [
    "#### Check Datatypes "
   ]
  },
  {
   "cell_type": "code",
   "execution_count": 50,
   "id": "45844faa-e082-479e-8141-31a0c06c2760",
   "metadata": {},
   "outputs": [
    {
     "data": {
      "text/plain": [
       "Product_Category                           object\n",
       "KAM                                        object\n",
       "NRC_one_off                                object\n",
       "New_Value                                 float64\n",
       "Sales_Stage                                object\n",
       "Closure_Status                             object\n",
       "Expected_Closure_Date                      object\n",
       "Actual_Closure_Date                        object\n",
       "Commitment_Month_original_first_commit     object\n",
       "Date_Added                                 object\n",
       "Months_closed_actual_closure               object\n",
       "YEAR                                      float64\n",
       "dtype: object"
      ]
     },
     "execution_count": 50,
     "metadata": {},
     "output_type": "execute_result"
    }
   ],
   "source": [
    "alitech.dtypes"
   ]
  },
  {
   "cell_type": "markdown",
   "id": "b053c250-0cf5-4eff-b24f-f9494007d755",
   "metadata": {},
   "source": [
    "#### Convert Datatypes To Appropriate Format"
   ]
  },
  {
   "cell_type": "code",
   "execution_count": 51,
   "id": "63a51f88-f5b4-438e-aacf-ded86020e87b",
   "metadata": {},
   "outputs": [],
   "source": [
    "alitech.Expected_Closure_Date = alitech.Expected_Closure_Date.astype('datetime64')#Converting Date to YYYY-MM-DD format\n",
    "alitech.Actual_Closure_Date = alitech.Actual_Closure_Date.astype('datetime64')#Converting Date to YYYY-MM-DD format\n",
    "alitech.Date_Added = alitech.Date_Added.astype('datetime64')#Converting Date to YYYY-MM-DD format\n",
    "alitech.NRC_one_off = alitech.NRC_one_off.astype('category')#Converting to category\n",
    "alitech.YEAR = alitech.YEAR.astype('category')#Converting Date to category"
   ]
  },
  {
   "cell_type": "code",
   "execution_count": 52,
   "id": "d1c53bb5-220e-47d7-bcf0-c06b6f5f32e2",
   "metadata": {},
   "outputs": [
    {
     "data": {
      "text/plain": [
       "Product_Category                                  object\n",
       "KAM                                               object\n",
       "NRC_one_off                                     category\n",
       "New_Value                                        float64\n",
       "Sales_Stage                                       object\n",
       "Closure_Status                                    object\n",
       "Expected_Closure_Date                     datetime64[ns]\n",
       "Actual_Closure_Date                       datetime64[ns]\n",
       "Commitment_Month_original_first_commit            object\n",
       "Date_Added                                datetime64[ns]\n",
       "Months_closed_actual_closure                      object\n",
       "YEAR                                            category\n",
       "dtype: object"
      ]
     },
     "execution_count": 52,
     "metadata": {},
     "output_type": "execute_result"
    }
   ],
   "source": [
    "alitech.dtypes"
   ]
  },
  {
   "cell_type": "markdown",
   "id": "e404e27d-fef8-4edb-bbad-f86cc09dab01",
   "metadata": {},
   "source": [
    "### THE PRODUCT CATEGORY WITH THE HIGHEST OPPORTUNITY VALUE FOR 2019"
   ]
  },
  {
   "cell_type": "code",
   "execution_count": 53,
   "id": "f6e984fd-1a8f-4bcd-b9e1-da7266e26c4a",
   "metadata": {},
   "outputs": [],
   "source": [
    "alitech_2019 = alitech.loc[alitech['YEAR'] == 2019] #Creating a new data frame to store data for year 2019"
   ]
  },
  {
   "cell_type": "code",
   "execution_count": 54,
   "id": "6bec515e-cea1-4a19-ac46-4f5de1c05ae9",
   "metadata": {},
   "outputs": [
    {
     "data": {
      "text/html": [
       "<div>\n",
       "<style scoped>\n",
       "    .dataframe tbody tr th:only-of-type {\n",
       "        vertical-align: middle;\n",
       "    }\n",
       "\n",
       "    .dataframe tbody tr th {\n",
       "        vertical-align: top;\n",
       "    }\n",
       "\n",
       "    .dataframe thead th {\n",
       "        text-align: right;\n",
       "    }\n",
       "</style>\n",
       "<table border=\"1\" class=\"dataframe\">\n",
       "  <thead>\n",
       "    <tr style=\"text-align: right;\">\n",
       "      <th></th>\n",
       "      <th>Product_Category</th>\n",
       "      <th>KAM</th>\n",
       "      <th>NRC_one_off</th>\n",
       "      <th>New_Value</th>\n",
       "      <th>Sales_Stage</th>\n",
       "      <th>Closure_Status</th>\n",
       "      <th>Expected_Closure_Date</th>\n",
       "      <th>Actual_Closure_Date</th>\n",
       "      <th>Commitment_Month_original_first_commit</th>\n",
       "      <th>Date_Added</th>\n",
       "      <th>Months_closed_actual_closure</th>\n",
       "      <th>YEAR</th>\n",
       "    </tr>\n",
       "  </thead>\n",
       "  <tbody>\n",
       "    <tr>\n",
       "      <th>171</th>\n",
       "      <td>Managed Services</td>\n",
       "      <td>KAM-B</td>\n",
       "      <td>NaN</td>\n",
       "      <td>4800000.0</td>\n",
       "      <td>Proposal</td>\n",
       "      <td>Warm</td>\n",
       "      <td>2020-01-30</td>\n",
       "      <td>2020-01-30</td>\n",
       "      <td>Jan</td>\n",
       "      <td>2019-12-26</td>\n",
       "      <td>Jan</td>\n",
       "      <td>2019.0</td>\n",
       "    </tr>\n",
       "    <tr>\n",
       "      <th>172</th>\n",
       "      <td>Access Services</td>\n",
       "      <td>KAM-B</td>\n",
       "      <td>600,000.00</td>\n",
       "      <td>2616000.0</td>\n",
       "      <td>Proposal</td>\n",
       "      <td>Warm</td>\n",
       "      <td>2020-01-30</td>\n",
       "      <td>2020-01-30</td>\n",
       "      <td>Jan</td>\n",
       "      <td>2019-12-26</td>\n",
       "      <td>Jan</td>\n",
       "      <td>2019.0</td>\n",
       "    </tr>\n",
       "    <tr>\n",
       "      <th>173</th>\n",
       "      <td>Access Services</td>\n",
       "      <td>KAM-A</td>\n",
       "      <td>300,000.00</td>\n",
       "      <td>2700000.0</td>\n",
       "      <td>Close Won/Approval</td>\n",
       "      <td>Hot</td>\n",
       "      <td>2019-12-20</td>\n",
       "      <td>2019-12-27</td>\n",
       "      <td>Dec</td>\n",
       "      <td>2019-12-30</td>\n",
       "      <td>Dec</td>\n",
       "      <td>2019.0</td>\n",
       "    </tr>\n",
       "    <tr>\n",
       "      <th>221</th>\n",
       "      <td>Managed Services</td>\n",
       "      <td>KAM-C</td>\n",
       "      <td>1,588,549.80</td>\n",
       "      <td>1588549.8</td>\n",
       "      <td>Close Won/Approval</td>\n",
       "      <td>Hot</td>\n",
       "      <td>2019-12-31</td>\n",
       "      <td>2020-02-07</td>\n",
       "      <td>Dec</td>\n",
       "      <td>2020-02-07</td>\n",
       "      <td>Feb</td>\n",
       "      <td>2019.0</td>\n",
       "    </tr>\n",
       "  </tbody>\n",
       "</table>\n",
       "</div>"
      ],
      "text/plain": [
       "     Product_Category    KAM   NRC_one_off  New_Value         Sales_Stage  \\\n",
       "171  Managed Services  KAM-B           NaN  4800000.0            Proposal   \n",
       "172   Access Services  KAM-B    600,000.00  2616000.0            Proposal   \n",
       "173   Access Services  KAM-A    300,000.00  2700000.0  Close Won/Approval   \n",
       "221  Managed Services  KAM-C  1,588,549.80  1588549.8  Close Won/Approval   \n",
       "\n",
       "    Closure_Status Expected_Closure_Date Actual_Closure_Date  \\\n",
       "171           Warm            2020-01-30          2020-01-30   \n",
       "172           Warm            2020-01-30          2020-01-30   \n",
       "173            Hot            2019-12-20          2019-12-27   \n",
       "221            Hot            2019-12-31          2020-02-07   \n",
       "\n",
       "    Commitment_Month_original_first_commit Date_Added  \\\n",
       "171                                    Jan 2019-12-26   \n",
       "172                                    Jan 2019-12-26   \n",
       "173                                    Dec 2019-12-30   \n",
       "221                                    Dec 2020-02-07   \n",
       "\n",
       "    Months_closed_actual_closure    YEAR  \n",
       "171                          Jan  2019.0  \n",
       "172                          Jan  2019.0  \n",
       "173                          Dec  2019.0  \n",
       "221                          Feb  2019.0  "
      ]
     },
     "metadata": {},
     "output_type": "display_data"
    }
   ],
   "source": [
    "display(alitech_2019.tail(4))"
   ]
  },
  {
   "cell_type": "code",
   "execution_count": 55,
   "id": "61e2b5de-1102-4d1a-a63c-b509e659cd70",
   "metadata": {},
   "outputs": [
    {
     "data": {
      "image/png": "[encoded data removed]",
      "text/plain": [
       "<Figure size 1080x360 with 1 Axes>"
      ]
     },
     "metadata": {
      "needs_background": "light"
     },
     "output_type": "display_data"
    }
   ],
   "source": [
    "plt.figure(figsize = (15,5)) # To resize the plot\n",
    "\n",
    "sns.barplot(x=\"New_Value\", y=\"Product_Category\", data=alitech_2019.sort_values(\"New_Value\", ascending=False),\n",
    "            label=\"Total Production\", palette='viridis', ci=None)\n",
    "plt.show()"
   ]
  },
  {
   "cell_type": "markdown",
   "id": "7c48f46d-9c84-4276-9489-a78af6a6043a",
   "metadata": {},
   "source": [
    "\n",
    "### THE KAM WITH THE HIGHEST OPPORTUNITY VALUE FOR 2020\n",
    "\n"
   ]
  },
  {
   "cell_type": "code",
   "execution_count": 56,
   "id": "e809d80d-17b5-4f41-8f01-a3e20bb35ad9",
   "metadata": {},
   "outputs": [
    {
     "data": {
      "text/html": [
       "<div>\n",
       "<style scoped>\n",
       "    .dataframe tbody tr th:only-of-type {\n",
       "        vertical-align: middle;\n",
       "    }\n",
       "\n",
       "    .dataframe tbody tr th {\n",
       "        vertical-align: top;\n",
       "    }\n",
       "\n",
       "    .dataframe thead th {\n",
       "        text-align: right;\n",
       "    }\n",
       "</style>\n",
       "<table border=\"1\" class=\"dataframe\">\n",
       "  <thead>\n",
       "    <tr style=\"text-align: right;\">\n",
       "      <th></th>\n",
       "      <th>Product_Category</th>\n",
       "      <th>KAM</th>\n",
       "      <th>NRC_one_off</th>\n",
       "      <th>New_Value</th>\n",
       "      <th>Sales_Stage</th>\n",
       "      <th>Closure_Status</th>\n",
       "      <th>Expected_Closure_Date</th>\n",
       "      <th>Actual_Closure_Date</th>\n",
       "      <th>Commitment_Month_original_first_commit</th>\n",
       "      <th>Date_Added</th>\n",
       "      <th>Months_closed_actual_closure</th>\n",
       "      <th>YEAR</th>\n",
       "    </tr>\n",
       "  </thead>\n",
       "  <tbody>\n",
       "    <tr>\n",
       "      <th>513</th>\n",
       "      <td>Cloud</td>\n",
       "      <td>KAM-C</td>\n",
       "      <td>285,840,088.40</td>\n",
       "      <td>285840088.4</td>\n",
       "      <td>Close Won/Approval</td>\n",
       "      <td>Hot</td>\n",
       "      <td>2020-12-31</td>\n",
       "      <td>2020-12-21</td>\n",
       "      <td>Feb</td>\n",
       "      <td>2021-02-24</td>\n",
       "      <td>Dec</td>\n",
       "      <td>2020.0</td>\n",
       "    </tr>\n",
       "    <tr>\n",
       "      <th>514</th>\n",
       "      <td>Access Services</td>\n",
       "      <td>KAM-C</td>\n",
       "      <td>317,127.00</td>\n",
       "      <td>1763502.0</td>\n",
       "      <td>Close Won/Approval</td>\n",
       "      <td>Hot</td>\n",
       "      <td>2020-10-31</td>\n",
       "      <td>2020-10-13</td>\n",
       "      <td>Oct</td>\n",
       "      <td>2021-02-24</td>\n",
       "      <td>Oct</td>\n",
       "      <td>2020.0</td>\n",
       "    </tr>\n",
       "    <tr>\n",
       "      <th>515</th>\n",
       "      <td>Access Services</td>\n",
       "      <td>KAM-C</td>\n",
       "      <td>425,000.00</td>\n",
       "      <td>1788249.6</td>\n",
       "      <td>Close Won/Approval</td>\n",
       "      <td>Hot</td>\n",
       "      <td>2020-06-30</td>\n",
       "      <td>2020-06-11</td>\n",
       "      <td>Jun</td>\n",
       "      <td>2021-02-24</td>\n",
       "      <td>Jun</td>\n",
       "      <td>2020.0</td>\n",
       "    </tr>\n",
       "    <tr>\n",
       "      <th>516</th>\n",
       "      <td>Network Infrastructure</td>\n",
       "      <td>KAM-C</td>\n",
       "      <td>202,250.00</td>\n",
       "      <td>202250.0</td>\n",
       "      <td>Close Won/Approval</td>\n",
       "      <td>Hot</td>\n",
       "      <td>2020-07-31</td>\n",
       "      <td>2020-07-27</td>\n",
       "      <td>Jul</td>\n",
       "      <td>2021-02-24</td>\n",
       "      <td>Jul</td>\n",
       "      <td>2020.0</td>\n",
       "    </tr>\n",
       "  </tbody>\n",
       "</table>\n",
       "</div>"
      ],
      "text/plain": [
       "           Product_Category    KAM     NRC_one_off    New_Value  \\\n",
       "513                   Cloud  KAM-C  285,840,088.40  285840088.4   \n",
       "514         Access Services  KAM-C      317,127.00    1763502.0   \n",
       "515         Access Services  KAM-C      425,000.00    1788249.6   \n",
       "516  Network Infrastructure  KAM-C      202,250.00     202250.0   \n",
       "\n",
       "            Sales_Stage Closure_Status Expected_Closure_Date  \\\n",
       "513  Close Won/Approval            Hot            2020-12-31   \n",
       "514  Close Won/Approval            Hot            2020-10-31   \n",
       "515  Close Won/Approval            Hot            2020-06-30   \n",
       "516  Close Won/Approval            Hot            2020-07-31   \n",
       "\n",
       "    Actual_Closure_Date Commitment_Month_original_first_commit Date_Added  \\\n",
       "513          2020-12-21                                    Feb 2021-02-24   \n",
       "514          2020-10-13                                    Oct 2021-02-24   \n",
       "515          2020-06-11                                    Jun 2021-02-24   \n",
       "516          2020-07-27                                    Jul 2021-02-24   \n",
       "\n",
       "    Months_closed_actual_closure    YEAR  \n",
       "513                          Dec  2020.0  \n",
       "514                          Oct  2020.0  \n",
       "515                          Jun  2020.0  \n",
       "516                          Jul  2020.0  "
      ]
     },
     "metadata": {},
     "output_type": "display_data"
    }
   ],
   "source": [
    "alitech_2020 = alitech.loc[alitech['YEAR'] == 2020] #Creating a new data frame to store data for year 2019\n",
    "display(alitech_2020.tail(4))"
   ]
  },
  {
   "cell_type": "code",
   "execution_count": 57,
   "id": "5e0978e2-7733-4127-b77e-ec55d3c7bf46",
   "metadata": {
    "tags": []
   },
   "outputs": [
    {
     "data": {
      "image/png": "[encoded data removed]",
      "text/plain": [
       "<Figure size 864x432 with 1 Axes>"
      ]
     },
     "metadata": {},
     "output_type": "display_data"
    }
   ],
   "source": [
    "fig, ax = plt.subplots(figsize = (12,6))\n",
    "fig.patch.set_facecolor('#f6f5f7')\n",
    "ax.set_facecolor('#f6f5f5')\n",
    "\n",
    "plt_1= sns.barplot(y= 'New_Value',x='KAM', data=alitech_2020, palette='viridis')\n",
    "plt_1.set_title('HIGHEST OPPORTUNITY VALUE FOR 2020')\n",
    "plt_1.set_xlabel('Key Account Manager')\n",
    "plt_1.set_ylabel('Opportunity Value')\n",
    "plt_1.set_xticklabels(plt_1.get_xticklabels(), rotation=45);"
   ]
  },
  {
   "cell_type": "markdown",
   "id": "9449e00b-cfe5-45e4-ae56-094f936642d6",
   "metadata": {},
   "source": [
    "### THE BESTSELLING PRODUCT IN 2019\n"
   ]
  },
  {
   "cell_type": "code",
   "execution_count": 58,
   "id": "4fcd8cbd-ebaa-4355-9436-83616bf26715",
   "metadata": {},
   "outputs": [
    {
     "data": {
      "text/plain": [
       "Product_Category                          173\n",
       "KAM                                       174\n",
       "NRC_one_off                               150\n",
       "New_Value                                 175\n",
       "Sales_Stage                               174\n",
       "Closure_Status                            170\n",
       "Expected_Closure_Date                     140\n",
       "Actual_Closure_Date                       117\n",
       "Commitment_Month_original_first_commit    140\n",
       "Date_Added                                175\n",
       "Months_closed_actual_closure              117\n",
       "YEAR                                      175\n",
       "dtype: int64"
      ]
     },
     "execution_count": 58,
     "metadata": {},
     "output_type": "execute_result"
    }
   ],
   "source": [
    "alitech_2019.count() #Counts the values of different columns"
   ]
  },
  {
   "cell_type": "code",
   "execution_count": 59,
   "id": "5148a56c-46ef-48f7-88ff-14f98ed29296",
   "metadata": {},
   "outputs": [
    {
     "data": {
      "text/plain": [
       "<matplotlib.legend.Legend at 0x2271a192f70>"
      ]
     },
     "execution_count": 59,
     "metadata": {},
     "output_type": "execute_result"
    },
    {
     "data": {
      "image/png": "[encoded data removed]",
      "text/plain": [
       "<Figure size 1080x360 with 1 Axes>"
      ]
     },
     "metadata": {
      "needs_background": "light"
     },
     "output_type": "display_data"
    }
   ],
   "source": [
    "plt.figure(figsize = (15,5)) # To resize the plot\n",
    "sns.countplot(x='Closure_Status', hue = 'Product_Category',palette='viridis', data=alitech_2019)\n",
    "plt.legend(loc='upper left', title='Product category')"
   ]
  },
  {
   "cell_type": "code",
   "execution_count": 60,
   "id": "9e15f08c-20b7-4854-a3f7-7c911bc9a9bf",
   "metadata": {},
   "outputs": [
    {
     "data": {
      "text/plain": [
       "Hot     121\n",
       "Cold     30\n",
       "Warm     19\n",
       "Name: Closure_Status, dtype: int64"
      ]
     },
     "execution_count": 60,
     "metadata": {},
     "output_type": "execute_result"
    }
   ],
   "source": [
    "alitech_2019['Closure_Status'].value_counts()"
   ]
  },
  {
   "cell_type": "markdown",
   "id": "8feffb51-2c2b-4f60-ad5b-cafd09bf9cc7",
   "metadata": {},
   "source": [
    "### THE MONTH WITH THE BEST SALE IN 2020"
   ]
  },
  {
   "cell_type": "code",
   "execution_count": 61,
   "id": "bed47041-dac9-484a-aa94-c115a1bf1738",
   "metadata": {},
   "outputs": [],
   "source": [
    "alitech_stage_2020 = alitech_2020.loc[alitech['Sales_Stage'] == 'Close Won/Approval'] #Creating a new data frame to store data for year 2019"
   ]
  },
  {
   "cell_type": "code",
   "execution_count": 62,
   "id": "ab956853-4fa8-4233-adcf-63cd16bf4753",
   "metadata": {},
   "outputs": [
    {
     "data": {
      "text/plain": [
       "<matplotlib.legend.Legend at 0x22719f43430>"
      ]
     },
     "execution_count": 62,
     "metadata": {},
     "output_type": "execute_result"
    },
    {
     "data": {
      "image/png": "[encoded data removed]",
      "text/plain": [
       "<Figure size 1080x360 with 1 Axes>"
      ]
     },
     "metadata": {
      "needs_background": "light"
     },
     "output_type": "display_data"
    }
   ],
   "source": [
    "plt.figure(figsize = (15,5)) # To resize the plot\n",
    "sns.countplot(x='Sales_Stage', hue = 'Commitment_Month_original_first_commit',palette='viridis', data=alitech_stage_2020)\n",
    "plt.legend(loc='upper right', title='Months')"
   ]
  },
  {
   "cell_type": "code",
   "execution_count": 63,
   "id": "9836462c-15d9-44b1-892d-ef6db012a30b",
   "metadata": {},
   "outputs": [
    {
     "data": {
      "text/plain": [
       "Close Won/Approval     133\n",
       "Lost                    80\n",
       "Proposal                53\n",
       "Negotiation/bidding     19\n",
       "Name: Sales_Stage, dtype: int64"
      ]
     },
     "execution_count": 63,
     "metadata": {},
     "output_type": "execute_result"
    }
   ],
   "source": [
    "alitech_2020['Sales_Stage'].value_counts()"
   ]
  },
  {
   "cell_type": "code",
   "execution_count": 64,
   "id": "b87a2fee-eae0-441b-a884-3e1bfdb73964",
   "metadata": {},
   "outputs": [
    {
     "data": {
      "text/plain": [
       "Mar    33\n",
       "Oct    29\n",
       "Apr    29\n",
       "Sep    28\n",
       "Dec    25\n",
       "Jul    22\n",
       "Jan    22\n",
       "Nov    20\n",
       "Feb    20\n",
       "Jun    18\n",
       "May    15\n",
       "Aug     8\n",
       "Name: Commitment_Month_original_first_commit, dtype: int64"
      ]
     },
     "execution_count": 64,
     "metadata": {},
     "output_type": "execute_result"
    }
   ],
   "source": [
    "alitech_2020['Commitment_Month_original_first_commit'].value_counts()"
   ]
  },
  {
   "cell_type": "markdown",
   "id": "59e94ab7-bfca-4f78-b5c6-b75596a3e0a7",
   "metadata": {},
   "source": [
    "### THE PRODUCT CATEGORY WITH THE HIGHEST OPPORTUNITY VALUE FROM 2019 TILL 2020"
   ]
  },
  {
   "cell_type": "code",
   "execution_count": 65,
   "id": "e291b080-b05b-4b12-b4d3-9b47508d411f",
   "metadata": {},
   "outputs": [
    {
     "data": {
      "image/png": "[encoded data removed]",
      "text/plain": [
       "<Figure size 1080x360 with 1 Axes>"
      ]
     },
     "metadata": {
      "needs_background": "light"
     },
     "output_type": "display_data"
    }
   ],
   "source": [
    "plt.figure(figsize = (15,5)) # To resize the plot\n",
    "\n",
    "sns.barplot(x=\"New_Value\", y=\"Product_Category\", data=alitech.sort_values(\"New_Value\", ascending=False),\n",
    "            label=\"Total Production\", palette='viridis', ci=None)\n",
    "plt.show()"
   ]
  },
  {
   "cell_type": "markdown",
   "id": "61ab3aa2-5e63-4ef4-9090-72632106bfc9",
   "metadata": {},
   "source": [
    "## RECOMMENDATION\n",
    "\n",
    "#### The best product category to focus more on in terms of marketing is the Cloud category"
   ]
  }
 ],
 "metadata": {
  "kernelspec": {
   "display_name": "Python 3",
   "language": "python",
   "name": "python3"
  },
  "language_info": {
   "codemirror_mode": {
    "name": "ipython",
    "version": 3
   },
   "file_extension": ".py",
   "mimetype": "text/x-python",
   "name": "python",
   "nbconvert_exporter": "python",
   "pygments_lexer": "ipython3",
   "version": "3.8.8"
  }
 },
 "nbformat": 4,
 "nbformat_minor": 5
}
